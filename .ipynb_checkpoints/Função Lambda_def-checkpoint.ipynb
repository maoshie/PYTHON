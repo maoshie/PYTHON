{
 "cells": [
  {
   "cell_type": "markdown",
   "metadata": {},
   "source": [
    "* Python para Engenharia de dados *\n",
    "\n",
    "# FUNÇÃO LAMBDA;\n",
    "\n",
    "- Simplifica o codigo e diminui as linhas.\n",
    "- As logicas não podem ser complexa, tem que ser simples.\n",
    "- Utilizado para simples interações em listas."
   ]
  },
  {
   "cell_type": "code",
   "execution_count": 1,
   "metadata": {},
   "outputs": [
    {
     "name": "stdout",
     "output_type": "stream",
     "text": [
      "50\n"
     ]
    }
   ],
   "source": [
    "# Função lambda;\n",
    "# Declara a variavel (b) que vai receber a função lambda;\n",
    "\n",
    "b = (lambda x: x*10) \n",
    "print(b(5))"
   ]
  },
  {
   "cell_type": "code",
   "execution_count": 9,
   "metadata": {},
   "outputs": [
    {
     "name": "stdout",
     "output_type": "stream",
     "text": [
      "25\n"
     ]
    }
   ],
   "source": [
    "# Declarando a mesma função com Python - def\n",
    "\n",
    "def var(a):\n",
    "    return (a*5)\n",
    "print(var(5))\n",
    "\n",
    "# saida: 25 -> (5(a)*var(5)=25)"
   ]
  }
 ],
 "metadata": {
  "kernelspec": {
   "display_name": "Python 3",
   "language": "python",
   "name": "python3"
  },
  "language_info": {
   "codemirror_mode": {
    "name": "ipython",
    "version": 3
   },
   "file_extension": ".py",
   "mimetype": "text/x-python",
   "name": "python",
   "nbconvert_exporter": "python",
   "pygments_lexer": "ipython3",
   "version": "3.8.5"
  }
 },
 "nbformat": 4,
 "nbformat_minor": 4
}
