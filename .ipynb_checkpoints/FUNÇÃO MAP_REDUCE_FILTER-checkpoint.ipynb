{
 "cells": [
  {
   "cell_type": "markdown",
   "metadata": {},
   "source": [
    "# Funcionalidade:\n",
    "\n",
    "# * FUNÇÃO MAP/REDUCE/FILTER *\n",
    "\n",
    "- Retorna uma lista de resultados após a aplicação de uma função.\n",
    "- A função map pode ser utilizada com a função lambda para ralizar outras funções.\n",
    "- A função map, obriga ter um retorno e o for não."
   ]
  },
  {
   "cell_type": "markdown",
   "metadata": {},
   "source": [
    "# Função map(map(fun, iter))\n"
   ]
  },
  {
   "cell_type": "code",
   "execution_count": 1,
   "metadata": {},
   "outputs": [],
   "source": [
    "# declarar uma lista;\n",
    "\n",
    "a = [2,2,3,4,5]"
   ]
  },
  {
   "cell_type": "code",
   "execution_count": 2,
   "metadata": {},
   "outputs": [
    {
     "name": "stdout",
     "output_type": "stream",
     "text": [
      "usado def [4, 4, 9, 16, 25]\n",
      "Usado lambda [4, 4, 9, 16, 25]\n"
     ]
    }
   ],
   "source": [
    "# função def\n",
    "def elev(n):\n",
    "    return(n ** 2)\n",
    "\n",
    "y = list(map(elev, a))\n",
    "print(\"usado def {}\".format(y))\n",
    "\n",
    "\n",
    "# função lambda\n",
    "z = list(map(lambda g: g**2,a))\n",
    "print(\"Usado lambda {}\".format(z))"
   ]
  },
  {
   "cell_type": "code",
   "execution_count": 4,
   "metadata": {},
   "outputs": [
    {
     "name": "stdout",
     "output_type": "stream",
     "text": [
      "usado def = [4, 4, 6, 8, 10]\n"
     ]
    }
   ],
   "source": [
    "# função def\n",
    "# mulyiplicar os numeros\n",
    "\n",
    "def multi(f):\n",
    "    return(f*2)\n",
    "r = list(map(multi,a))\n",
    "print(\"usado def = {}\".format(r))"
   ]
  }
 ],
 "metadata": {
  "kernelspec": {
   "display_name": "Python 3",
   "language": "python",
   "name": "python3"
  },
  "language_info": {
   "codemirror_mode": {
    "name": "ipython",
    "version": 3
   },
   "file_extension": ".py",
   "mimetype": "text/x-python",
   "name": "python",
   "nbconvert_exporter": "python",
   "pygments_lexer": "ipython3",
   "version": "3.8.5"
  }
 },
 "nbformat": 4,
 "nbformat_minor": 4
}
