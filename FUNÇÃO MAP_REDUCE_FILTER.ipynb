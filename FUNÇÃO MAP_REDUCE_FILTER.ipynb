{
 "cells": [
  {
   "cell_type": "markdown",
   "metadata": {},
   "source": [
    "# Funcionalidade:\n",
    "\n",
    "# * FUNÇÃO MAP/REDUCE/FILTER *\n",
    "\n",
    "- Retorna uma lista de resultados após a aplicação de uma função.\n",
    "- A função map pode ser utilizada com a função lambda para ralizar outras funções.\n",
    "- A função map, obriga ter um retorno e o for não."
   ]
  },
  {
   "cell_type": "markdown",
   "metadata": {},
   "source": [
    "# Função map(map(fun, iter))\n"
   ]
  },
  {
   "cell_type": "code",
   "execution_count": 6,
   "metadata": {},
   "outputs": [],
   "source": [
    "# declarar uma lista;\n",
    "\n",
    "a = [2,2,2,2,2]"
   ]
  },
  {
   "cell_type": "code",
   "execution_count": 7,
   "metadata": {},
   "outputs": [
    {
     "name": "stdout",
     "output_type": "stream",
     "text": [
      "usado def/map: [4, 4, 4, 4, 4]\n"
     ]
    }
   ],
   "source": [
    "# função map(map(func,iter)) com def\n",
    "# função def\n",
    "def elev(n):\n",
    "    return(n*2)\n",
    "\n",
    "y = list(map(elev, a))\n",
    "print(\"usado def/map: {}\".format(y))"
   ]
  },
  {
   "cell_type": "code",
   "execution_count": null,
   "metadata": {},
   "outputs": [],
   "source": []
  },
  {
   "cell_type": "code",
   "execution_count": 8,
   "metadata": {},
   "outputs": [
    {
     "name": "stdout",
     "output_type": "stream",
     "text": [
      "soma usando map/lambda [7, 7, 7, 7, 7]\n"
     ]
    }
   ],
   "source": [
    "# função com map/lambda  -- sem usar def;\n",
    "\n",
    "x = list(map(lambda b: b+5,a))\n",
    "print(\"soma usando map/lambda {}\".format(x))"
   ]
  },
  {
   "cell_type": "code",
   "execution_count": null,
   "metadata": {},
   "outputs": [],
   "source": []
  },
  {
   "cell_type": "markdown",
   "metadata": {},
   "source": [
    "# FUNÇÃO REDUCE(reduce(func,iter))\n",
    "\n",
    "- Agrega todos os valoes de uma lista em um unico valor.\n",
    "- Não é built-in.\n",
    "- importar a biblioteca functools <--"
   ]
  },
  {
   "cell_type": "code",
   "execution_count": 1,
   "metadata": {},
   "outputs": [],
   "source": [
    "# declarar a lista;\n",
    "\n",
    "a = [2,2,3]"
   ]
  },
  {
   "cell_type": "code",
   "execution_count": 3,
   "metadata": {},
   "outputs": [
    {
     "name": "stdout",
     "output_type": "stream",
     "text": [
      "resultado REDUCE: 12\n"
     ]
    }
   ],
   "source": [
    "# declarar a função REDUCE/LAMBDA;\n",
    "\n",
    "#chamar a biblioteca functools no para reduce;\n",
    "from functools import reduce\n",
    "\n",
    "# NÃO declara a list;\n",
    "z = (reduce((lambda x, y: x*y),a))\n",
    "print(\"resultado REDUCE: {}\".format(z))"
   ]
  },
  {
   "cell_type": "markdown",
   "metadata": {},
   "source": [
    "FUNÇÃO FILTER(filter(func,iter))\n",
    "\n",
    "- Filtra uma lista de resultados após aplicação de uma função.\n",
    "- Combinado com outras funções map/lambda.\n",
    "- Usado para filtrar os resultado.\n",
    "\n"
   ]
  },
  {
   "cell_type": "code",
   "execution_count": 10,
   "metadata": {},
   "outputs": [
    {
     "name": "stdout",
     "output_type": "stream",
     "text": [
      "[2, 6, 8, 4, 8]\n"
     ]
    }
   ],
   "source": [
    "# declara a lista\n",
    "a = [2,6,8,12,4,19,8]\n",
    "\n",
    "# declarar a função;\n",
    "z = list(filter(lambda x: x < 10, a))\n",
    "\n",
    "# saida\n",
    "print(z)"
   ]
  },
  {
   "cell_type": "code",
   "execution_count": null,
   "metadata": {},
   "outputs": [],
   "source": []
  }
 ],
 "metadata": {
  "kernelspec": {
   "display_name": "Python 3",
   "language": "python",
   "name": "python3"
  },
  "language_info": {
   "codemirror_mode": {
    "name": "ipython",
    "version": 3
   },
   "file_extension": ".py",
   "mimetype": "text/x-python",
   "name": "python",
   "nbconvert_exporter": "python",
   "pygments_lexer": "ipython3",
   "version": "3.8.5"
  }
 },
 "nbformat": 4,
 "nbformat_minor": 4
}
