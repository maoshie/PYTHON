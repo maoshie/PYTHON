{
 "cells": [
  {
   "cell_type": "code",
   "execution_count": 9,
   "metadata": {},
   "outputs": [],
   "source": [
    "# função com map/def\n",
    "\n",
    "# Declara a lista;\n",
    "a = [2,5,9,8,6]"
   ]
  },
  {
   "cell_type": "code",
   "execution_count": 12,
   "metadata": {},
   "outputs": [
    {
     "name": "stdout",
     "output_type": "stream",
     "text": [
      "Resultado: [8, 20, 36, 32, 24]\n"
     ]
    }
   ],
   "source": [
    "# declara a função def;\n",
    "def multi(v):\n",
    "    return(v*4)\n",
    "\n",
    "# declarar a função map(func,iter);\n",
    "z = list(map(multi,a))\n",
    "print(\"Resultado: {}\".format(z))"
   ]
  },
  {
   "cell_type": "code",
   "execution_count": 13,
   "metadata": {},
   "outputs": [],
   "source": [
    "# declarar a função map/lambda;\n",
    "\n",
    "# declarando a lista;\n",
    "r = [2,9,4,2,6]"
   ]
  },
  {
   "cell_type": "code",
   "execution_count": 14,
   "metadata": {},
   "outputs": [
    {
     "name": "stdout",
     "output_type": "stream",
     "text": [
      "resultado soma: [7, 14, 9, 7, 11]\n"
     ]
    }
   ],
   "source": [
    "# declarando a função map/lambda;\n",
    "\n",
    "x = list(map(lambda v: v+5,r))\n",
    "print(\"resultado soma: {}\".format(x))"
   ]
  },
  {
   "cell_type": "code",
   "execution_count": null,
   "metadata": {},
   "outputs": [],
   "source": []
  }
 ],
 "metadata": {
  "kernelspec": {
   "display_name": "Python 3",
   "language": "python",
   "name": "python3"
  },
  "language_info": {
   "codemirror_mode": {
    "name": "ipython",
    "version": 3
   },
   "file_extension": ".py",
   "mimetype": "text/x-python",
   "name": "python",
   "nbconvert_exporter": "python",
   "pygments_lexer": "ipython3",
   "version": "3.8.5"
  }
 },
 "nbformat": 4,
 "nbformat_minor": 4
}
